{
  "nbformat": 4,
  "nbformat_minor": 0,
  "metadata": {
    "colab": {
      "provenance": []
    },
    "kernelspec": {
      "name": "python3",
      "display_name": "Python 3"
    },
    "language_info": {
      "name": "python"
    }
  },
  "cells": [
    {
      "cell_type": "markdown",
      "source": [
        "YAPAY ZEKA dersinin Google Colab bağlantı ayarlarının yapıldığı kod bölümüdür.\n",
        "\n",
        "Bu kod ile bağlantıları sağlayıp drive dosya bölümüne bağlantı sağlanmaktadır.\n",
        "\n",
        "Python programlama dilinde;\n",
        "\n",
        "\"print\" komutu ekrandan kullancıya bilgi veren bir koddur. \"import\" komutu ile yazılıma kütüphane dahil etme işlemleri gerçekleştirilir.\n",
        "\n",
        "YAPAY ZEKA dersi ilk kodlama çıktısıdır.\n"
      ],
      "metadata": {
        "id": "Pgo1f_klcqOE"
      }
    },
    {
      "cell_type": "code",
      "execution_count": null,
      "metadata": {
        "colab": {
          "base_uri": "https://localhost:8080/"
        },
        "id": "Veu4zT4-cZQy",
        "outputId": "aa7bf26d-1e92-478e-adf4-eab9601174cf"
      },
      "outputs": [
        {
          "output_type": "stream",
          "name": "stdout",
          "text": [
            "Merhaba, İGÜ - YAPAY ZEKA\n"
          ]
        }
      ],
      "source": [
        "print(\"Merhaba, İGÜ - YAPAY ZEKA\") # print ekrana çıktı veren bir koddur."
      ]
    },
    {
      "cell_type": "code",
      "source": [
        "import sys # import python programlama dilinde yazılıma kütüphane eklemeye yarayan bir kod blogudur.\n",
        "print(sys.version)"
      ],
      "metadata": {
        "colab": {
          "base_uri": "https://localhost:8080/"
        },
        "id": "gyGN8m_Ecsq6",
        "outputId": "8e0d2903-73f9-4de9-98a5-f44bf0bbc47f"
      },
      "execution_count": null,
      "outputs": [
        {
          "output_type": "stream",
          "name": "stdout",
          "text": [
            "3.10.12 (main, Sep 11 2024, 15:47:36) [GCC 11.4.0]\n"
          ]
        }
      ]
    },
    {
      "cell_type": "code",
      "source": [
        "from google.colab import drive # google colab - drive bağlantısı\n",
        "\n",
        "drive.mount('/content/drive')"
      ],
      "metadata": {
        "colab": {
          "base_uri": "https://localhost:8080/"
        },
        "id": "9bmHySg1dCGj",
        "outputId": "88fc76ad-a3ac-4c2f-8755-1e498156a478"
      },
      "execution_count": null,
      "outputs": [
        {
          "output_type": "stream",
          "name": "stdout",
          "text": [
            "Mounted at /content/drive\n"
          ]
        }
      ]
    },
    {
      "cell_type": "code",
      "source": [
        "import os\n",
        "\n",
        "os.chdir('/content/drive/My Drive/YapayZeka')\n",
        "\n",
        "!pwd # bize kodun çıktısını dosya yolu olarak veren kod blogudur."
      ],
      "metadata": {
        "colab": {
          "base_uri": "https://localhost:8080/"
        },
        "id": "07U6NtpKdNAa",
        "outputId": "c6a9b510-a06a-4bb5-8760-75a3ae0e3689"
      },
      "execution_count": null,
      "outputs": [
        {
          "output_type": "stream",
          "name": "stdout",
          "text": [
            "/content/drive/My Drive/YapayZeka\n"
          ]
        }
      ]
    }
  ]
}